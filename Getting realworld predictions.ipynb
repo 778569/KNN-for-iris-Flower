{
 "cells": [
  {
   "cell_type": "code",
   "execution_count": 1,
   "id": "0cd32a0d",
   "metadata": {},
   "outputs": [],
   "source": [
    "import joblib\n",
    "\n",
    "model = joblib.load(\"D:\\AI with Thak\\MLW-Day-01-main\\KNN-Iris.sav\")"
   ]
  },
  {
   "cell_type": "code",
   "execution_count": 7,
   "id": "70df04f7",
   "metadata": {},
   "outputs": [
    {
     "name": "stdout",
     "output_type": "stream",
     "text": [
      "[2.]\n"
     ]
    }
   ],
   "source": [
    "test = [[5.2,0.69,6.9,1.8]]\n",
    "result = model.predict(test)\n",
    "print(result)"
   ]
  },
  {
   "cell_type": "code",
   "execution_count": null,
   "id": "7539540e",
   "metadata": {},
   "outputs": [],
   "source": []
  }
 ],
 "metadata": {
  "kernelspec": {
   "display_name": "Python 3 (ipykernel)",
   "language": "python",
   "name": "python3"
  },
  "language_info": {
   "codemirror_mode": {
    "name": "ipython",
    "version": 3
   },
   "file_extension": ".py",
   "mimetype": "text/x-python",
   "name": "python",
   "nbconvert_exporter": "python",
   "pygments_lexer": "ipython3",
   "version": "3.11.5"
  }
 },
 "nbformat": 4,
 "nbformat_minor": 5
}
